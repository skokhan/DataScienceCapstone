{
  "metadata": {
    "kernelspec": {
      "name": "python",
      "display_name": "Python (Pyodide)",
      "language": "python"
    },
    "language_info": {
      "codemirror_mode": {
        "name": "python",
        "version": 3
      },
      "file_extension": ".py",
      "mimetype": "text/x-python",
      "name": "python",
      "nbconvert_exporter": "python",
      "pygments_lexer": "ipython3",
      "version": "3.8"
    }
  },
  "nbformat_minor": 4,
  "nbformat": 4,
  "cells": [
    {
      "cell_type": "code",
      "source": "# Dependency needed to install file \n\n# If running the notebook on your machine, else leave it commented\n#!pip install xlrd\n\n#!pip install openpyxl \nimport piplite\nawait piplite.install(['xlrd','openpyxl'])",
      "metadata": {
        "trusted": true
      },
      "outputs": [],
      "execution_count": 2
    },
    {
      "cell_type": "code",
      "source": "# Import required library\n\nfrom pyodide.http import pyfetch\nimport pandas as pd",
      "metadata": {
        "trusted": true
      },
      "outputs": [
        {
          "name": "stderr",
          "text": "<ipython-input-3-0a74b463eaf6>:4: DeprecationWarning: \nPyarrow will become a required dependency of pandas in the next major release of pandas (pandas 3.0),\n(to allow more performant data types, such as the Arrow string type, and better interoperability with other libraries)\nbut was not found to be installed on your system.\nIf this would cause problems for you,\nplease provide us feedback at https://github.com/pandas-dev/pandas/issues/54466\n        \n  import pandas as pd\n",
          "output_type": "stream"
        }
      ],
      "execution_count": 3
    },
    {
      "cell_type": "code",
      "source": "# Read data from CSV file\n\n# csv_path = 'https://cf-courses-data.s3.us.cloud-object-storage.appdomain.cloud/IBMDeveloperSkillsNetwork-PY0101EN-SkillsNetwork/labs/Module%204/data/TopSellingAlbums.csv'\n# df = pd.read_csv(csv_path)\n\nfilename = \"https://cf-courses-data.s3.us.cloud-object-storage.appdomain.cloud/IBMDeveloperSkillsNetwork-PY0101EN-SkillsNetwork/labs/Module%204/data/TopSellingAlbums.csv\"\n\nasync def download(url, filename):\n    response = await pyfetch(url)\n    if response.status == 200:\n        with open(filename, \"wb\") as f:\n            f.write(await response.bytes())\n\n\nawait download(filename, \"TopSellingAlbums.csv\")\ndf = pd.read_csv(\"TopSellingAlbums.csv\")",
      "metadata": {
        "trusted": true
      },
      "outputs": [],
      "execution_count": 4
    },
    {
      "cell_type": "code",
      "source": "# Read data from Excel File and print the first five rows\n\nxlsx_path = 'https://cf-courses-data.s3.us.cloud-object-storage.appdomain.cloud/IBMDeveloperSkillsNetwork-PY0101EN-SkillsNetwork/jupyterlite/files/Module%205/data/TopSellingAlbums.xlsx'\n\nasync def download(url, filename):\n    response = await pyfetch(url)\n    if response.status == 200:\n        with open(filename, \"wb\") as f:\n            f.write(await response.bytes())\n\nawait download(xlsx_path, \"TopSellingAlbums.xlsx\")\ndf = pd.read_excel(\"TopSellingAlbums.xlsx\")\n#df.head()\ndf",
      "metadata": {
        "trusted": true
      },
      "outputs": [
        {
          "execution_count": 24,
          "output_type": "execute_result",
          "data": {
            "text/plain": "            Artist                            Album  Released    Length  \\\n0  Michael Jackson                         Thriller      1982  00:42:19   \n1            AC/DC                    Back in Black      1980   0:42:11   \n2       Pink Floyd        The Dark Side of the Moon      1973   0:42:49   \n3  Whitney Houston                    The Bodyguard      1992   0:57:44   \n4        Meat Loaf                  Bat Out of Hell      1977   0:46:33   \n5           Eagles  Their Greatest Hits (1971-1975)      1976   0:43:08   \n6         Bee Gees             Saturday Night Fever      1977  01:15:54   \n7    Fleetwood Mac                          Rumours      1977   0:40:01   \n\n                         Genre  Music Recording Sales (millions)  \\\n0               pop, rock, R&B                              46.0   \n1                    hard rock                              26.1   \n2             progressive rock                              24.2   \n3               R&B, soul, pop                              27.4   \n4  hard rock, progressive rock                              20.6   \n5   rock, soft rock, folk rock                              32.2   \n6                        disco                              20.6   \n7                    soft rock                              27.9   \n\n   Claimed Sales (millions) Released.1 Soundtrack  Rating  \n0                        65 1982-11-30        NaN    10.0  \n1                        50 1980-07-25        NaN     9.5  \n2                        45 1973-03-01        NaN     9.0  \n3                        44 1992-11-17          Y     8.5  \n4                        43 1977-10-21        NaN     8.0  \n5                        42 1976-02-17        NaN     7.5  \n6                        40 1977-11-15          Y     7.0  \n7                        40 1977-02-04        NaN     6.5  ",
            "text/html": "<div>\n<style scoped>\n    .dataframe tbody tr th:only-of-type {\n        vertical-align: middle;\n    }\n\n    .dataframe tbody tr th {\n        vertical-align: top;\n    }\n\n    .dataframe thead th {\n        text-align: right;\n    }\n</style>\n<table border=\"1\" class=\"dataframe\">\n  <thead>\n    <tr style=\"text-align: right;\">\n      <th></th>\n      <th>Artist</th>\n      <th>Album</th>\n      <th>Released</th>\n      <th>Length</th>\n      <th>Genre</th>\n      <th>Music Recording Sales (millions)</th>\n      <th>Claimed Sales (millions)</th>\n      <th>Released.1</th>\n      <th>Soundtrack</th>\n      <th>Rating</th>\n    </tr>\n  </thead>\n  <tbody>\n    <tr>\n      <th>0</th>\n      <td>Michael Jackson</td>\n      <td>Thriller</td>\n      <td>1982</td>\n      <td>00:42:19</td>\n      <td>pop, rock, R&amp;B</td>\n      <td>46.0</td>\n      <td>65</td>\n      <td>1982-11-30</td>\n      <td>NaN</td>\n      <td>10.0</td>\n    </tr>\n    <tr>\n      <th>1</th>\n      <td>AC/DC</td>\n      <td>Back in Black</td>\n      <td>1980</td>\n      <td>0:42:11</td>\n      <td>hard rock</td>\n      <td>26.1</td>\n      <td>50</td>\n      <td>1980-07-25</td>\n      <td>NaN</td>\n      <td>9.5</td>\n    </tr>\n    <tr>\n      <th>2</th>\n      <td>Pink Floyd</td>\n      <td>The Dark Side of the Moon</td>\n      <td>1973</td>\n      <td>0:42:49</td>\n      <td>progressive rock</td>\n      <td>24.2</td>\n      <td>45</td>\n      <td>1973-03-01</td>\n      <td>NaN</td>\n      <td>9.0</td>\n    </tr>\n    <tr>\n      <th>3</th>\n      <td>Whitney Houston</td>\n      <td>The Bodyguard</td>\n      <td>1992</td>\n      <td>0:57:44</td>\n      <td>R&amp;B, soul, pop</td>\n      <td>27.4</td>\n      <td>44</td>\n      <td>1992-11-17</td>\n      <td>Y</td>\n      <td>8.5</td>\n    </tr>\n    <tr>\n      <th>4</th>\n      <td>Meat Loaf</td>\n      <td>Bat Out of Hell</td>\n      <td>1977</td>\n      <td>0:46:33</td>\n      <td>hard rock, progressive rock</td>\n      <td>20.6</td>\n      <td>43</td>\n      <td>1977-10-21</td>\n      <td>NaN</td>\n      <td>8.0</td>\n    </tr>\n    <tr>\n      <th>5</th>\n      <td>Eagles</td>\n      <td>Their Greatest Hits (1971-1975)</td>\n      <td>1976</td>\n      <td>0:43:08</td>\n      <td>rock, soft rock, folk rock</td>\n      <td>32.2</td>\n      <td>42</td>\n      <td>1976-02-17</td>\n      <td>NaN</td>\n      <td>7.5</td>\n    </tr>\n    <tr>\n      <th>6</th>\n      <td>Bee Gees</td>\n      <td>Saturday Night Fever</td>\n      <td>1977</td>\n      <td>01:15:54</td>\n      <td>disco</td>\n      <td>20.6</td>\n      <td>40</td>\n      <td>1977-11-15</td>\n      <td>Y</td>\n      <td>7.0</td>\n    </tr>\n    <tr>\n      <th>7</th>\n      <td>Fleetwood Mac</td>\n      <td>Rumours</td>\n      <td>1977</td>\n      <td>0:40:01</td>\n      <td>soft rock</td>\n      <td>27.9</td>\n      <td>40</td>\n      <td>1977-02-04</td>\n      <td>NaN</td>\n      <td>6.5</td>\n    </tr>\n  </tbody>\n</table>\n</div>"
          },
          "metadata": {}
        }
      ],
      "execution_count": 24
    },
    {
      "cell_type": "code",
      "source": "type(df)",
      "metadata": {
        "trusted": true
      },
      "outputs": [
        {
          "execution_count": 25,
          "output_type": "execute_result",
          "data": {
            "text/plain": "pandas.core.frame.DataFrame"
          },
          "metadata": {}
        }
      ],
      "execution_count": 25
    },
    {
      "cell_type": "code",
      "source": "df.shape",
      "metadata": {
        "trusted": true
      },
      "outputs": [
        {
          "execution_count": 26,
          "output_type": "execute_result",
          "data": {
            "text/plain": "(8, 10)"
          },
          "metadata": {}
        }
      ],
      "execution_count": 26
    },
    {
      "cell_type": "code",
      "source": "df.info()",
      "metadata": {
        "trusted": true
      },
      "outputs": [
        {
          "name": "stdout",
          "text": "<class 'pandas.core.frame.DataFrame'>\nRangeIndex: 8 entries, 0 to 7\nData columns (total 10 columns):\n #   Column                            Non-Null Count  Dtype         \n---  ------                            --------------  -----         \n 0   Artist                            8 non-null      object        \n 1   Album                             8 non-null      object        \n 2   Released                          8 non-null      int64         \n 3   Length                            8 non-null      object        \n 4   Genre                             8 non-null      object        \n 5   Music Recording Sales (millions)  8 non-null      float64       \n 6   Claimed Sales (millions)          8 non-null      int64         \n 7   Released.1                        8 non-null      datetime64[ns]\n 8   Soundtrack                        2 non-null      object        \n 9   Rating                            8 non-null      float64       \ndtypes: datetime64[ns](1), float64(2), int64(2), object(5)\nmemory usage: 552.0+ bytes\n",
          "output_type": "stream"
        }
      ],
      "execution_count": 27
    },
    {
      "cell_type": "code",
      "source": "df.describe()",
      "metadata": {
        "trusted": true
      },
      "outputs": [
        {
          "execution_count": 28,
          "output_type": "execute_result",
          "data": {
            "text/plain": "          Released  Music Recording Sales (millions)  \\\ncount     8.000000                          8.000000   \nmean   1979.250000                         28.125000   \nmin    1973.000000                         20.600000   \n25%    1976.750000                         23.300000   \n50%    1977.000000                         26.750000   \n75%    1980.500000                         28.975000   \nmax    1992.000000                         46.000000   \nstd       5.800246                          8.189322   \n\n       Claimed Sales (millions)           Released.1     Rating  \ncount                  8.000000                    8   8.000000  \nmean                  46.125000  1979-10-20 21:00:00   8.250000  \nmin                   40.000000  1973-03-01 00:00:00   6.500000  \n25%                   41.500000  1976-11-07 18:00:00   7.375000  \n50%                   43.500000  1977-11-02 12:00:00   8.250000  \n75%                   46.250000  1981-02-24 12:00:00   9.125000  \nmax                   65.000000  1992-11-17 00:00:00  10.000000  \nstd                    8.271077                  NaN   1.224745  ",
            "text/html": "<div>\n<style scoped>\n    .dataframe tbody tr th:only-of-type {\n        vertical-align: middle;\n    }\n\n    .dataframe tbody tr th {\n        vertical-align: top;\n    }\n\n    .dataframe thead th {\n        text-align: right;\n    }\n</style>\n<table border=\"1\" class=\"dataframe\">\n  <thead>\n    <tr style=\"text-align: right;\">\n      <th></th>\n      <th>Released</th>\n      <th>Music Recording Sales (millions)</th>\n      <th>Claimed Sales (millions)</th>\n      <th>Released.1</th>\n      <th>Rating</th>\n    </tr>\n  </thead>\n  <tbody>\n    <tr>\n      <th>count</th>\n      <td>8.000000</td>\n      <td>8.000000</td>\n      <td>8.000000</td>\n      <td>8</td>\n      <td>8.000000</td>\n    </tr>\n    <tr>\n      <th>mean</th>\n      <td>1979.250000</td>\n      <td>28.125000</td>\n      <td>46.125000</td>\n      <td>1979-10-20 21:00:00</td>\n      <td>8.250000</td>\n    </tr>\n    <tr>\n      <th>min</th>\n      <td>1973.000000</td>\n      <td>20.600000</td>\n      <td>40.000000</td>\n      <td>1973-03-01 00:00:00</td>\n      <td>6.500000</td>\n    </tr>\n    <tr>\n      <th>25%</th>\n      <td>1976.750000</td>\n      <td>23.300000</td>\n      <td>41.500000</td>\n      <td>1976-11-07 18:00:00</td>\n      <td>7.375000</td>\n    </tr>\n    <tr>\n      <th>50%</th>\n      <td>1977.000000</td>\n      <td>26.750000</td>\n      <td>43.500000</td>\n      <td>1977-11-02 12:00:00</td>\n      <td>8.250000</td>\n    </tr>\n    <tr>\n      <th>75%</th>\n      <td>1980.500000</td>\n      <td>28.975000</td>\n      <td>46.250000</td>\n      <td>1981-02-24 12:00:00</td>\n      <td>9.125000</td>\n    </tr>\n    <tr>\n      <th>max</th>\n      <td>1992.000000</td>\n      <td>46.000000</td>\n      <td>65.000000</td>\n      <td>1992-11-17 00:00:00</td>\n      <td>10.000000</td>\n    </tr>\n    <tr>\n      <th>std</th>\n      <td>5.800246</td>\n      <td>8.189322</td>\n      <td>8.271077</td>\n      <td>NaN</td>\n      <td>1.224745</td>\n    </tr>\n  </tbody>\n</table>\n</div>"
          },
          "metadata": {}
        }
      ],
      "execution_count": 28
    },
    {
      "cell_type": "code",
      "source": "df.head()",
      "metadata": {
        "trusted": true
      },
      "outputs": [
        {
          "execution_count": 29,
          "output_type": "execute_result",
          "data": {
            "text/plain": "            Artist                      Album  Released    Length  \\\n0  Michael Jackson                   Thriller      1982  00:42:19   \n1            AC/DC              Back in Black      1980   0:42:11   \n2       Pink Floyd  The Dark Side of the Moon      1973   0:42:49   \n3  Whitney Houston              The Bodyguard      1992   0:57:44   \n4        Meat Loaf            Bat Out of Hell      1977   0:46:33   \n\n                         Genre  Music Recording Sales (millions)  \\\n0               pop, rock, R&B                              46.0   \n1                    hard rock                              26.1   \n2             progressive rock                              24.2   \n3               R&B, soul, pop                              27.4   \n4  hard rock, progressive rock                              20.6   \n\n   Claimed Sales (millions) Released.1 Soundtrack  Rating  \n0                        65 1982-11-30        NaN    10.0  \n1                        50 1980-07-25        NaN     9.5  \n2                        45 1973-03-01        NaN     9.0  \n3                        44 1992-11-17          Y     8.5  \n4                        43 1977-10-21        NaN     8.0  ",
            "text/html": "<div>\n<style scoped>\n    .dataframe tbody tr th:only-of-type {\n        vertical-align: middle;\n    }\n\n    .dataframe tbody tr th {\n        vertical-align: top;\n    }\n\n    .dataframe thead th {\n        text-align: right;\n    }\n</style>\n<table border=\"1\" class=\"dataframe\">\n  <thead>\n    <tr style=\"text-align: right;\">\n      <th></th>\n      <th>Artist</th>\n      <th>Album</th>\n      <th>Released</th>\n      <th>Length</th>\n      <th>Genre</th>\n      <th>Music Recording Sales (millions)</th>\n      <th>Claimed Sales (millions)</th>\n      <th>Released.1</th>\n      <th>Soundtrack</th>\n      <th>Rating</th>\n    </tr>\n  </thead>\n  <tbody>\n    <tr>\n      <th>0</th>\n      <td>Michael Jackson</td>\n      <td>Thriller</td>\n      <td>1982</td>\n      <td>00:42:19</td>\n      <td>pop, rock, R&amp;B</td>\n      <td>46.0</td>\n      <td>65</td>\n      <td>1982-11-30</td>\n      <td>NaN</td>\n      <td>10.0</td>\n    </tr>\n    <tr>\n      <th>1</th>\n      <td>AC/DC</td>\n      <td>Back in Black</td>\n      <td>1980</td>\n      <td>0:42:11</td>\n      <td>hard rock</td>\n      <td>26.1</td>\n      <td>50</td>\n      <td>1980-07-25</td>\n      <td>NaN</td>\n      <td>9.5</td>\n    </tr>\n    <tr>\n      <th>2</th>\n      <td>Pink Floyd</td>\n      <td>The Dark Side of the Moon</td>\n      <td>1973</td>\n      <td>0:42:49</td>\n      <td>progressive rock</td>\n      <td>24.2</td>\n      <td>45</td>\n      <td>1973-03-01</td>\n      <td>NaN</td>\n      <td>9.0</td>\n    </tr>\n    <tr>\n      <th>3</th>\n      <td>Whitney Houston</td>\n      <td>The Bodyguard</td>\n      <td>1992</td>\n      <td>0:57:44</td>\n      <td>R&amp;B, soul, pop</td>\n      <td>27.4</td>\n      <td>44</td>\n      <td>1992-11-17</td>\n      <td>Y</td>\n      <td>8.5</td>\n    </tr>\n    <tr>\n      <th>4</th>\n      <td>Meat Loaf</td>\n      <td>Bat Out of Hell</td>\n      <td>1977</td>\n      <td>0:46:33</td>\n      <td>hard rock, progressive rock</td>\n      <td>20.6</td>\n      <td>43</td>\n      <td>1977-10-21</td>\n      <td>NaN</td>\n      <td>8.0</td>\n    </tr>\n  </tbody>\n</table>\n</div>"
          },
          "metadata": {}
        }
      ],
      "execution_count": 29
    },
    {
      "cell_type": "code",
      "source": "df.tail()",
      "metadata": {
        "trusted": true
      },
      "outputs": [
        {
          "execution_count": 30,
          "output_type": "execute_result",
          "data": {
            "text/plain": "            Artist                            Album  Released    Length  \\\n3  Whitney Houston                    The Bodyguard      1992   0:57:44   \n4        Meat Loaf                  Bat Out of Hell      1977   0:46:33   \n5           Eagles  Their Greatest Hits (1971-1975)      1976   0:43:08   \n6         Bee Gees             Saturday Night Fever      1977  01:15:54   \n7    Fleetwood Mac                          Rumours      1977   0:40:01   \n\n                         Genre  Music Recording Sales (millions)  \\\n3               R&B, soul, pop                              27.4   \n4  hard rock, progressive rock                              20.6   \n5   rock, soft rock, folk rock                              32.2   \n6                        disco                              20.6   \n7                    soft rock                              27.9   \n\n   Claimed Sales (millions) Released.1 Soundtrack  Rating  \n3                        44 1992-11-17          Y     8.5  \n4                        43 1977-10-21        NaN     8.0  \n5                        42 1976-02-17        NaN     7.5  \n6                        40 1977-11-15          Y     7.0  \n7                        40 1977-02-04        NaN     6.5  ",
            "text/html": "<div>\n<style scoped>\n    .dataframe tbody tr th:only-of-type {\n        vertical-align: middle;\n    }\n\n    .dataframe tbody tr th {\n        vertical-align: top;\n    }\n\n    .dataframe thead th {\n        text-align: right;\n    }\n</style>\n<table border=\"1\" class=\"dataframe\">\n  <thead>\n    <tr style=\"text-align: right;\">\n      <th></th>\n      <th>Artist</th>\n      <th>Album</th>\n      <th>Released</th>\n      <th>Length</th>\n      <th>Genre</th>\n      <th>Music Recording Sales (millions)</th>\n      <th>Claimed Sales (millions)</th>\n      <th>Released.1</th>\n      <th>Soundtrack</th>\n      <th>Rating</th>\n    </tr>\n  </thead>\n  <tbody>\n    <tr>\n      <th>3</th>\n      <td>Whitney Houston</td>\n      <td>The Bodyguard</td>\n      <td>1992</td>\n      <td>0:57:44</td>\n      <td>R&amp;B, soul, pop</td>\n      <td>27.4</td>\n      <td>44</td>\n      <td>1992-11-17</td>\n      <td>Y</td>\n      <td>8.5</td>\n    </tr>\n    <tr>\n      <th>4</th>\n      <td>Meat Loaf</td>\n      <td>Bat Out of Hell</td>\n      <td>1977</td>\n      <td>0:46:33</td>\n      <td>hard rock, progressive rock</td>\n      <td>20.6</td>\n      <td>43</td>\n      <td>1977-10-21</td>\n      <td>NaN</td>\n      <td>8.0</td>\n    </tr>\n    <tr>\n      <th>5</th>\n      <td>Eagles</td>\n      <td>Their Greatest Hits (1971-1975)</td>\n      <td>1976</td>\n      <td>0:43:08</td>\n      <td>rock, soft rock, folk rock</td>\n      <td>32.2</td>\n      <td>42</td>\n      <td>1976-02-17</td>\n      <td>NaN</td>\n      <td>7.5</td>\n    </tr>\n    <tr>\n      <th>6</th>\n      <td>Bee Gees</td>\n      <td>Saturday Night Fever</td>\n      <td>1977</td>\n      <td>01:15:54</td>\n      <td>disco</td>\n      <td>20.6</td>\n      <td>40</td>\n      <td>1977-11-15</td>\n      <td>Y</td>\n      <td>7.0</td>\n    </tr>\n    <tr>\n      <th>7</th>\n      <td>Fleetwood Mac</td>\n      <td>Rumours</td>\n      <td>1977</td>\n      <td>0:40:01</td>\n      <td>soft rock</td>\n      <td>27.9</td>\n      <td>40</td>\n      <td>1977-02-04</td>\n      <td>NaN</td>\n      <td>6.5</td>\n    </tr>\n  </tbody>\n</table>\n</div>"
          },
          "metadata": {}
        }
      ],
      "execution_count": 30
    },
    {
      "cell_type": "code",
      "source": "df.sort_values('Artist')",
      "metadata": {
        "trusted": true
      },
      "outputs": [
        {
          "execution_count": 31,
          "output_type": "execute_result",
          "data": {
            "text/plain": "            Artist                            Album  Released    Length  \\\n1            AC/DC                    Back in Black      1980   0:42:11   \n6         Bee Gees             Saturday Night Fever      1977  01:15:54   \n5           Eagles  Their Greatest Hits (1971-1975)      1976   0:43:08   \n7    Fleetwood Mac                          Rumours      1977   0:40:01   \n4        Meat Loaf                  Bat Out of Hell      1977   0:46:33   \n0  Michael Jackson                         Thriller      1982  00:42:19   \n2       Pink Floyd        The Dark Side of the Moon      1973   0:42:49   \n3  Whitney Houston                    The Bodyguard      1992   0:57:44   \n\n                         Genre  Music Recording Sales (millions)  \\\n1                    hard rock                              26.1   \n6                        disco                              20.6   \n5   rock, soft rock, folk rock                              32.2   \n7                    soft rock                              27.9   \n4  hard rock, progressive rock                              20.6   \n0               pop, rock, R&B                              46.0   \n2             progressive rock                              24.2   \n3               R&B, soul, pop                              27.4   \n\n   Claimed Sales (millions) Released.1 Soundtrack  Rating  \n1                        50 1980-07-25        NaN     9.5  \n6                        40 1977-11-15          Y     7.0  \n5                        42 1976-02-17        NaN     7.5  \n7                        40 1977-02-04        NaN     6.5  \n4                        43 1977-10-21        NaN     8.0  \n0                        65 1982-11-30        NaN    10.0  \n2                        45 1973-03-01        NaN     9.0  \n3                        44 1992-11-17          Y     8.5  ",
            "text/html": "<div>\n<style scoped>\n    .dataframe tbody tr th:only-of-type {\n        vertical-align: middle;\n    }\n\n    .dataframe tbody tr th {\n        vertical-align: top;\n    }\n\n    .dataframe thead th {\n        text-align: right;\n    }\n</style>\n<table border=\"1\" class=\"dataframe\">\n  <thead>\n    <tr style=\"text-align: right;\">\n      <th></th>\n      <th>Artist</th>\n      <th>Album</th>\n      <th>Released</th>\n      <th>Length</th>\n      <th>Genre</th>\n      <th>Music Recording Sales (millions)</th>\n      <th>Claimed Sales (millions)</th>\n      <th>Released.1</th>\n      <th>Soundtrack</th>\n      <th>Rating</th>\n    </tr>\n  </thead>\n  <tbody>\n    <tr>\n      <th>1</th>\n      <td>AC/DC</td>\n      <td>Back in Black</td>\n      <td>1980</td>\n      <td>0:42:11</td>\n      <td>hard rock</td>\n      <td>26.1</td>\n      <td>50</td>\n      <td>1980-07-25</td>\n      <td>NaN</td>\n      <td>9.5</td>\n    </tr>\n    <tr>\n      <th>6</th>\n      <td>Bee Gees</td>\n      <td>Saturday Night Fever</td>\n      <td>1977</td>\n      <td>01:15:54</td>\n      <td>disco</td>\n      <td>20.6</td>\n      <td>40</td>\n      <td>1977-11-15</td>\n      <td>Y</td>\n      <td>7.0</td>\n    </tr>\n    <tr>\n      <th>5</th>\n      <td>Eagles</td>\n      <td>Their Greatest Hits (1971-1975)</td>\n      <td>1976</td>\n      <td>0:43:08</td>\n      <td>rock, soft rock, folk rock</td>\n      <td>32.2</td>\n      <td>42</td>\n      <td>1976-02-17</td>\n      <td>NaN</td>\n      <td>7.5</td>\n    </tr>\n    <tr>\n      <th>7</th>\n      <td>Fleetwood Mac</td>\n      <td>Rumours</td>\n      <td>1977</td>\n      <td>0:40:01</td>\n      <td>soft rock</td>\n      <td>27.9</td>\n      <td>40</td>\n      <td>1977-02-04</td>\n      <td>NaN</td>\n      <td>6.5</td>\n    </tr>\n    <tr>\n      <th>4</th>\n      <td>Meat Loaf</td>\n      <td>Bat Out of Hell</td>\n      <td>1977</td>\n      <td>0:46:33</td>\n      <td>hard rock, progressive rock</td>\n      <td>20.6</td>\n      <td>43</td>\n      <td>1977-10-21</td>\n      <td>NaN</td>\n      <td>8.0</td>\n    </tr>\n    <tr>\n      <th>0</th>\n      <td>Michael Jackson</td>\n      <td>Thriller</td>\n      <td>1982</td>\n      <td>00:42:19</td>\n      <td>pop, rock, R&amp;B</td>\n      <td>46.0</td>\n      <td>65</td>\n      <td>1982-11-30</td>\n      <td>NaN</td>\n      <td>10.0</td>\n    </tr>\n    <tr>\n      <th>2</th>\n      <td>Pink Floyd</td>\n      <td>The Dark Side of the Moon</td>\n      <td>1973</td>\n      <td>0:42:49</td>\n      <td>progressive rock</td>\n      <td>24.2</td>\n      <td>45</td>\n      <td>1973-03-01</td>\n      <td>NaN</td>\n      <td>9.0</td>\n    </tr>\n    <tr>\n      <th>3</th>\n      <td>Whitney Houston</td>\n      <td>The Bodyguard</td>\n      <td>1992</td>\n      <td>0:57:44</td>\n      <td>R&amp;B, soul, pop</td>\n      <td>27.4</td>\n      <td>44</td>\n      <td>1992-11-17</td>\n      <td>Y</td>\n      <td>8.5</td>\n    </tr>\n  </tbody>\n</table>\n</div>"
          },
          "metadata": {}
        }
      ],
      "execution_count": 31
    },
    {
      "cell_type": "code",
      "source": "df_gr = df.groupby('Released')\n\n# Let's print the first entries\n# in all the groups formed.\ndf_gr.first()",
      "metadata": {
        "trusted": true
      },
      "outputs": [
        {
          "execution_count": 32,
          "output_type": "execute_result",
          "data": {
            "text/plain": "                   Artist                            Album    Length  \\\nReleased                                                               \n1973           Pink Floyd        The Dark Side of the Moon   0:42:49   \n1976               Eagles  Their Greatest Hits (1971-1975)   0:43:08   \n1977            Meat Loaf                  Bat Out of Hell   0:46:33   \n1980                AC/DC                    Back in Black   0:42:11   \n1982      Michael Jackson                         Thriller  00:42:19   \n1992      Whitney Houston                    The Bodyguard   0:57:44   \n\n                                Genre  Music Recording Sales (millions)  \\\nReleased                                                                  \n1973                 progressive rock                              24.2   \n1976       rock, soft rock, folk rock                              32.2   \n1977      hard rock, progressive rock                              20.6   \n1980                        hard rock                              26.1   \n1982                   pop, rock, R&B                              46.0   \n1992                   R&B, soul, pop                              27.4   \n\n          Claimed Sales (millions) Released.1 Soundtrack  Rating  \nReleased                                                          \n1973                            45 1973-03-01       None     9.0  \n1976                            42 1976-02-17       None     7.5  \n1977                            43 1977-10-21          Y     8.0  \n1980                            50 1980-07-25       None     9.5  \n1982                            65 1982-11-30       None    10.0  \n1992                            44 1992-11-17          Y     8.5  ",
            "text/html": "<div>\n<style scoped>\n    .dataframe tbody tr th:only-of-type {\n        vertical-align: middle;\n    }\n\n    .dataframe tbody tr th {\n        vertical-align: top;\n    }\n\n    .dataframe thead th {\n        text-align: right;\n    }\n</style>\n<table border=\"1\" class=\"dataframe\">\n  <thead>\n    <tr style=\"text-align: right;\">\n      <th></th>\n      <th>Artist</th>\n      <th>Album</th>\n      <th>Length</th>\n      <th>Genre</th>\n      <th>Music Recording Sales (millions)</th>\n      <th>Claimed Sales (millions)</th>\n      <th>Released.1</th>\n      <th>Soundtrack</th>\n      <th>Rating</th>\n    </tr>\n    <tr>\n      <th>Released</th>\n      <th></th>\n      <th></th>\n      <th></th>\n      <th></th>\n      <th></th>\n      <th></th>\n      <th></th>\n      <th></th>\n      <th></th>\n    </tr>\n  </thead>\n  <tbody>\n    <tr>\n      <th>1973</th>\n      <td>Pink Floyd</td>\n      <td>The Dark Side of the Moon</td>\n      <td>0:42:49</td>\n      <td>progressive rock</td>\n      <td>24.2</td>\n      <td>45</td>\n      <td>1973-03-01</td>\n      <td>None</td>\n      <td>9.0</td>\n    </tr>\n    <tr>\n      <th>1976</th>\n      <td>Eagles</td>\n      <td>Their Greatest Hits (1971-1975)</td>\n      <td>0:43:08</td>\n      <td>rock, soft rock, folk rock</td>\n      <td>32.2</td>\n      <td>42</td>\n      <td>1976-02-17</td>\n      <td>None</td>\n      <td>7.5</td>\n    </tr>\n    <tr>\n      <th>1977</th>\n      <td>Meat Loaf</td>\n      <td>Bat Out of Hell</td>\n      <td>0:46:33</td>\n      <td>hard rock, progressive rock</td>\n      <td>20.6</td>\n      <td>43</td>\n      <td>1977-10-21</td>\n      <td>Y</td>\n      <td>8.0</td>\n    </tr>\n    <tr>\n      <th>1980</th>\n      <td>AC/DC</td>\n      <td>Back in Black</td>\n      <td>0:42:11</td>\n      <td>hard rock</td>\n      <td>26.1</td>\n      <td>50</td>\n      <td>1980-07-25</td>\n      <td>None</td>\n      <td>9.5</td>\n    </tr>\n    <tr>\n      <th>1982</th>\n      <td>Michael Jackson</td>\n      <td>Thriller</td>\n      <td>00:42:19</td>\n      <td>pop, rock, R&amp;B</td>\n      <td>46.0</td>\n      <td>65</td>\n      <td>1982-11-30</td>\n      <td>None</td>\n      <td>10.0</td>\n    </tr>\n    <tr>\n      <th>1992</th>\n      <td>Whitney Houston</td>\n      <td>The Bodyguard</td>\n      <td>0:57:44</td>\n      <td>R&amp;B, soul, pop</td>\n      <td>27.4</td>\n      <td>44</td>\n      <td>1992-11-17</td>\n      <td>Y</td>\n      <td>8.5</td>\n    </tr>\n  </tbody>\n</table>\n</div>"
          },
          "metadata": {}
        }
      ],
      "execution_count": 32
    },
    {
      "cell_type": "code",
      "source": "# Sorting by column \"Artist\"\ndf.sort_values(by=['Artist'], ascending=True)",
      "metadata": {
        "trusted": true
      },
      "outputs": [
        {
          "execution_count": 33,
          "output_type": "execute_result",
          "data": {
            "text/plain": "            Artist                            Album  Released    Length  \\\n1            AC/DC                    Back in Black      1980   0:42:11   \n6         Bee Gees             Saturday Night Fever      1977  01:15:54   \n5           Eagles  Their Greatest Hits (1971-1975)      1976   0:43:08   \n7    Fleetwood Mac                          Rumours      1977   0:40:01   \n4        Meat Loaf                  Bat Out of Hell      1977   0:46:33   \n0  Michael Jackson                         Thriller      1982  00:42:19   \n2       Pink Floyd        The Dark Side of the Moon      1973   0:42:49   \n3  Whitney Houston                    The Bodyguard      1992   0:57:44   \n\n                         Genre  Music Recording Sales (millions)  \\\n1                    hard rock                              26.1   \n6                        disco                              20.6   \n5   rock, soft rock, folk rock                              32.2   \n7                    soft rock                              27.9   \n4  hard rock, progressive rock                              20.6   \n0               pop, rock, R&B                              46.0   \n2             progressive rock                              24.2   \n3               R&B, soul, pop                              27.4   \n\n   Claimed Sales (millions) Released.1 Soundtrack  Rating  \n1                        50 1980-07-25        NaN     9.5  \n6                        40 1977-11-15          Y     7.0  \n5                        42 1976-02-17        NaN     7.5  \n7                        40 1977-02-04        NaN     6.5  \n4                        43 1977-10-21        NaN     8.0  \n0                        65 1982-11-30        NaN    10.0  \n2                        45 1973-03-01        NaN     9.0  \n3                        44 1992-11-17          Y     8.5  ",
            "text/html": "<div>\n<style scoped>\n    .dataframe tbody tr th:only-of-type {\n        vertical-align: middle;\n    }\n\n    .dataframe tbody tr th {\n        vertical-align: top;\n    }\n\n    .dataframe thead th {\n        text-align: right;\n    }\n</style>\n<table border=\"1\" class=\"dataframe\">\n  <thead>\n    <tr style=\"text-align: right;\">\n      <th></th>\n      <th>Artist</th>\n      <th>Album</th>\n      <th>Released</th>\n      <th>Length</th>\n      <th>Genre</th>\n      <th>Music Recording Sales (millions)</th>\n      <th>Claimed Sales (millions)</th>\n      <th>Released.1</th>\n      <th>Soundtrack</th>\n      <th>Rating</th>\n    </tr>\n  </thead>\n  <tbody>\n    <tr>\n      <th>1</th>\n      <td>AC/DC</td>\n      <td>Back in Black</td>\n      <td>1980</td>\n      <td>0:42:11</td>\n      <td>hard rock</td>\n      <td>26.1</td>\n      <td>50</td>\n      <td>1980-07-25</td>\n      <td>NaN</td>\n      <td>9.5</td>\n    </tr>\n    <tr>\n      <th>6</th>\n      <td>Bee Gees</td>\n      <td>Saturday Night Fever</td>\n      <td>1977</td>\n      <td>01:15:54</td>\n      <td>disco</td>\n      <td>20.6</td>\n      <td>40</td>\n      <td>1977-11-15</td>\n      <td>Y</td>\n      <td>7.0</td>\n    </tr>\n    <tr>\n      <th>5</th>\n      <td>Eagles</td>\n      <td>Their Greatest Hits (1971-1975)</td>\n      <td>1976</td>\n      <td>0:43:08</td>\n      <td>rock, soft rock, folk rock</td>\n      <td>32.2</td>\n      <td>42</td>\n      <td>1976-02-17</td>\n      <td>NaN</td>\n      <td>7.5</td>\n    </tr>\n    <tr>\n      <th>7</th>\n      <td>Fleetwood Mac</td>\n      <td>Rumours</td>\n      <td>1977</td>\n      <td>0:40:01</td>\n      <td>soft rock</td>\n      <td>27.9</td>\n      <td>40</td>\n      <td>1977-02-04</td>\n      <td>NaN</td>\n      <td>6.5</td>\n    </tr>\n    <tr>\n      <th>4</th>\n      <td>Meat Loaf</td>\n      <td>Bat Out of Hell</td>\n      <td>1977</td>\n      <td>0:46:33</td>\n      <td>hard rock, progressive rock</td>\n      <td>20.6</td>\n      <td>43</td>\n      <td>1977-10-21</td>\n      <td>NaN</td>\n      <td>8.0</td>\n    </tr>\n    <tr>\n      <th>0</th>\n      <td>Michael Jackson</td>\n      <td>Thriller</td>\n      <td>1982</td>\n      <td>00:42:19</td>\n      <td>pop, rock, R&amp;B</td>\n      <td>46.0</td>\n      <td>65</td>\n      <td>1982-11-30</td>\n      <td>NaN</td>\n      <td>10.0</td>\n    </tr>\n    <tr>\n      <th>2</th>\n      <td>Pink Floyd</td>\n      <td>The Dark Side of the Moon</td>\n      <td>1973</td>\n      <td>0:42:49</td>\n      <td>progressive rock</td>\n      <td>24.2</td>\n      <td>45</td>\n      <td>1973-03-01</td>\n      <td>NaN</td>\n      <td>9.0</td>\n    </tr>\n    <tr>\n      <th>3</th>\n      <td>Whitney Houston</td>\n      <td>The Bodyguard</td>\n      <td>1992</td>\n      <td>0:57:44</td>\n      <td>R&amp;B, soul, pop</td>\n      <td>27.4</td>\n      <td>44</td>\n      <td>1992-11-17</td>\n      <td>Y</td>\n      <td>8.5</td>\n    </tr>\n  </tbody>\n</table>\n</div>"
          },
          "metadata": {}
        }
      ],
      "execution_count": 33
    },
    {
      "cell_type": "code",
      "source": "# Sorting by column \"Rating\"\ndf.sort_values(by=['Rating'], ascending=False)",
      "metadata": {
        "trusted": true
      },
      "outputs": [
        {
          "execution_count": 5,
          "output_type": "execute_result",
          "data": {
            "text/plain": "            Artist                            Album  Released   Length  \\\n0  Michael Jackson                         Thriller      1982  0:42:19   \n1            AC/DC                    Back in Black      1980  0:42:11   \n2       Pink Floyd        The Dark Side of the Moon      1973  0:42:49   \n3  Whitney Houston                    The Bodyguard      1992  0:57:44   \n4        Meat Loaf                  Bat Out of Hell      1977  0:46:33   \n5           Eagles  Their Greatest Hits (1971-1975)      1976  0:43:08   \n6         Bee Gees             Saturday Night Fever      1977  1:15:54   \n7    Fleetwood Mac                          Rumours      1977  0:40:01   \n\n                         Genre  Music Recording Sales (millions)  \\\n0               pop, rock, R&B                              46.0   \n1                    hard rock                              26.1   \n2             progressive rock                              24.2   \n3               R&B, soul, pop                              27.4   \n4  hard rock, progressive rock                              20.6   \n5   rock, soft rock, folk rock                              32.2   \n6                        disco                              20.6   \n7                    soft rock                              27.9   \n\n   Claimed Sales (millions) Released.1 Soundtrack  Rating  \n0                        65  30-Nov-82        NaN    10.0  \n1                        50  25-Jul-80        NaN     9.5  \n2                        45  01-Mar-73        NaN     9.0  \n3                        44  17-Nov-92          Y     8.5  \n4                        43  21-Oct-77        NaN     8.0  \n5                        42  17-Feb-76        NaN     7.5  \n6                        40  15-Nov-77          Y     7.0  \n7                        40  04-Feb-77        NaN     6.5  ",
            "text/html": "<div>\n<style scoped>\n    .dataframe tbody tr th:only-of-type {\n        vertical-align: middle;\n    }\n\n    .dataframe tbody tr th {\n        vertical-align: top;\n    }\n\n    .dataframe thead th {\n        text-align: right;\n    }\n</style>\n<table border=\"1\" class=\"dataframe\">\n  <thead>\n    <tr style=\"text-align: right;\">\n      <th></th>\n      <th>Artist</th>\n      <th>Album</th>\n      <th>Released</th>\n      <th>Length</th>\n      <th>Genre</th>\n      <th>Music Recording Sales (millions)</th>\n      <th>Claimed Sales (millions)</th>\n      <th>Released.1</th>\n      <th>Soundtrack</th>\n      <th>Rating</th>\n    </tr>\n  </thead>\n  <tbody>\n    <tr>\n      <th>0</th>\n      <td>Michael Jackson</td>\n      <td>Thriller</td>\n      <td>1982</td>\n      <td>0:42:19</td>\n      <td>pop, rock, R&amp;B</td>\n      <td>46.0</td>\n      <td>65</td>\n      <td>30-Nov-82</td>\n      <td>NaN</td>\n      <td>10.0</td>\n    </tr>\n    <tr>\n      <th>1</th>\n      <td>AC/DC</td>\n      <td>Back in Black</td>\n      <td>1980</td>\n      <td>0:42:11</td>\n      <td>hard rock</td>\n      <td>26.1</td>\n      <td>50</td>\n      <td>25-Jul-80</td>\n      <td>NaN</td>\n      <td>9.5</td>\n    </tr>\n    <tr>\n      <th>2</th>\n      <td>Pink Floyd</td>\n      <td>The Dark Side of the Moon</td>\n      <td>1973</td>\n      <td>0:42:49</td>\n      <td>progressive rock</td>\n      <td>24.2</td>\n      <td>45</td>\n      <td>01-Mar-73</td>\n      <td>NaN</td>\n      <td>9.0</td>\n    </tr>\n    <tr>\n      <th>3</th>\n      <td>Whitney Houston</td>\n      <td>The Bodyguard</td>\n      <td>1992</td>\n      <td>0:57:44</td>\n      <td>R&amp;B, soul, pop</td>\n      <td>27.4</td>\n      <td>44</td>\n      <td>17-Nov-92</td>\n      <td>Y</td>\n      <td>8.5</td>\n    </tr>\n    <tr>\n      <th>4</th>\n      <td>Meat Loaf</td>\n      <td>Bat Out of Hell</td>\n      <td>1977</td>\n      <td>0:46:33</td>\n      <td>hard rock, progressive rock</td>\n      <td>20.6</td>\n      <td>43</td>\n      <td>21-Oct-77</td>\n      <td>NaN</td>\n      <td>8.0</td>\n    </tr>\n    <tr>\n      <th>5</th>\n      <td>Eagles</td>\n      <td>Their Greatest Hits (1971-1975)</td>\n      <td>1976</td>\n      <td>0:43:08</td>\n      <td>rock, soft rock, folk rock</td>\n      <td>32.2</td>\n      <td>42</td>\n      <td>17-Feb-76</td>\n      <td>NaN</td>\n      <td>7.5</td>\n    </tr>\n    <tr>\n      <th>6</th>\n      <td>Bee Gees</td>\n      <td>Saturday Night Fever</td>\n      <td>1977</td>\n      <td>1:15:54</td>\n      <td>disco</td>\n      <td>20.6</td>\n      <td>40</td>\n      <td>15-Nov-77</td>\n      <td>Y</td>\n      <td>7.0</td>\n    </tr>\n    <tr>\n      <th>7</th>\n      <td>Fleetwood Mac</td>\n      <td>Rumours</td>\n      <td>1977</td>\n      <td>0:40:01</td>\n      <td>soft rock</td>\n      <td>27.9</td>\n      <td>40</td>\n      <td>04-Feb-77</td>\n      <td>NaN</td>\n      <td>6.5</td>\n    </tr>\n  </tbody>\n</table>\n</div>"
          },
          "metadata": {}
        }
      ],
      "execution_count": 5
    },
    {
      "cell_type": "code",
      "source": "df[['Artist']]",
      "metadata": {
        "trusted": true
      },
      "outputs": [
        {
          "execution_count": 85,
          "output_type": "execute_result",
          "data": {
            "text/plain": "            Artist\n0  Michael Jackson\n1            AC/DC\n2       Pink Floyd\n3  Whitney Houston\n4        Meat Loaf\n5           Eagles\n6         Bee Gees\n7    Fleetwood Mac",
            "text/html": "<div>\n<style scoped>\n    .dataframe tbody tr th:only-of-type {\n        vertical-align: middle;\n    }\n\n    .dataframe tbody tr th {\n        vertical-align: top;\n    }\n\n    .dataframe thead th {\n        text-align: right;\n    }\n</style>\n<table border=\"1\" class=\"dataframe\">\n  <thead>\n    <tr style=\"text-align: right;\">\n      <th></th>\n      <th>Artist</th>\n    </tr>\n  </thead>\n  <tbody>\n    <tr>\n      <th>0</th>\n      <td>Michael Jackson</td>\n    </tr>\n    <tr>\n      <th>1</th>\n      <td>AC/DC</td>\n    </tr>\n    <tr>\n      <th>2</th>\n      <td>Pink Floyd</td>\n    </tr>\n    <tr>\n      <th>3</th>\n      <td>Whitney Houston</td>\n    </tr>\n    <tr>\n      <th>4</th>\n      <td>Meat Loaf</td>\n    </tr>\n    <tr>\n      <th>5</th>\n      <td>Eagles</td>\n    </tr>\n    <tr>\n      <th>6</th>\n      <td>Bee Gees</td>\n    </tr>\n    <tr>\n      <th>7</th>\n      <td>Fleetwood Mac</td>\n    </tr>\n  </tbody>\n</table>\n</div>"
          },
          "metadata": {}
        }
      ],
      "execution_count": 85
    },
    {
      "cell_type": "code",
      "source": "df.iloc[0,0]",
      "metadata": {
        "trusted": true
      },
      "outputs": [
        {
          "execution_count": 105,
          "output_type": "execute_result",
          "data": {
            "text/plain": "'Michael Jackson'"
          },
          "metadata": {}
        }
      ],
      "execution_count": 105
    },
    {
      "cell_type": "code",
      "source": "df.iloc[[0]]",
      "metadata": {
        "trusted": true
      },
      "outputs": [
        {
          "execution_count": 100,
          "output_type": "execute_result",
          "data": {
            "text/plain": "            Artist     Album  Released    Length           Genre  \\\n0  Michael Jackson  Thriller      1982  00:42:19  pop, rock, R&B   \n\n   Music Recording Sales (millions)  Claimed Sales (millions) Released.1  \\\n0                              46.0                        65 1982-11-30   \n\n  Soundtrack  Rating  \n0        NaN    10.0  ",
            "text/html": "<div>\n<style scoped>\n    .dataframe tbody tr th:only-of-type {\n        vertical-align: middle;\n    }\n\n    .dataframe tbody tr th {\n        vertical-align: top;\n    }\n\n    .dataframe thead th {\n        text-align: right;\n    }\n</style>\n<table border=\"1\" class=\"dataframe\">\n  <thead>\n    <tr style=\"text-align: right;\">\n      <th></th>\n      <th>Artist</th>\n      <th>Album</th>\n      <th>Released</th>\n      <th>Length</th>\n      <th>Genre</th>\n      <th>Music Recording Sales (millions)</th>\n      <th>Claimed Sales (millions)</th>\n      <th>Released.1</th>\n      <th>Soundtrack</th>\n      <th>Rating</th>\n    </tr>\n  </thead>\n  <tbody>\n    <tr>\n      <th>0</th>\n      <td>Michael Jackson</td>\n      <td>Thriller</td>\n      <td>1982</td>\n      <td>00:42:19</td>\n      <td>pop, rock, R&amp;B</td>\n      <td>46.0</td>\n      <td>65</td>\n      <td>1982-11-30</td>\n      <td>NaN</td>\n      <td>10.0</td>\n    </tr>\n  </tbody>\n</table>\n</div>"
          },
          "metadata": {}
        }
      ],
      "execution_count": 100
    },
    {
      "cell_type": "code",
      "source": "df.iloc[6,4]",
      "metadata": {
        "trusted": true
      },
      "outputs": [
        {
          "execution_count": 107,
          "output_type": "execute_result",
          "data": {
            "text/plain": "'disco'"
          },
          "metadata": {}
        }
      ],
      "execution_count": 107
    },
    {
      "cell_type": "code",
      "source": "df.loc[3:6,'Album']",
      "metadata": {
        "trusted": true
      },
      "outputs": [
        {
          "execution_count": 114,
          "output_type": "execute_result",
          "data": {
            "text/plain": "3                      The Bodyguard\n4                    Bat Out of Hell\n5    Their Greatest Hits (1971-1975)\n6               Saturday Night Fever\nName: Album, dtype: object"
          },
          "metadata": {}
        }
      ],
      "execution_count": 114
    },
    {
      "cell_type": "code",
      "source": "df.loc[2:5,'Album':'Genre']",
      "metadata": {
        "trusted": true
      },
      "outputs": [
        {
          "execution_count": 113,
          "output_type": "execute_result",
          "data": {
            "text/plain": "                             Album  Released   Length  \\\n2        The Dark Side of the Moon      1973  0:42:49   \n3                    The Bodyguard      1992  0:57:44   \n4                  Bat Out of Hell      1977  0:46:33   \n5  Their Greatest Hits (1971-1975)      1976  0:43:08   \n\n                         Genre  \n2             progressive rock  \n3               R&B, soul, pop  \n4  hard rock, progressive rock  \n5   rock, soft rock, folk rock  ",
            "text/html": "<div>\n<style scoped>\n    .dataframe tbody tr th:only-of-type {\n        vertical-align: middle;\n    }\n\n    .dataframe tbody tr th {\n        vertical-align: top;\n    }\n\n    .dataframe thead th {\n        text-align: right;\n    }\n</style>\n<table border=\"1\" class=\"dataframe\">\n  <thead>\n    <tr style=\"text-align: right;\">\n      <th></th>\n      <th>Album</th>\n      <th>Released</th>\n      <th>Length</th>\n      <th>Genre</th>\n    </tr>\n  </thead>\n  <tbody>\n    <tr>\n      <th>2</th>\n      <td>The Dark Side of the Moon</td>\n      <td>1973</td>\n      <td>0:42:49</td>\n      <td>progressive rock</td>\n    </tr>\n    <tr>\n      <th>3</th>\n      <td>The Bodyguard</td>\n      <td>1992</td>\n      <td>0:57:44</td>\n      <td>R&amp;B, soul, pop</td>\n    </tr>\n    <tr>\n      <th>4</th>\n      <td>Bat Out of Hell</td>\n      <td>1977</td>\n      <td>0:46:33</td>\n      <td>hard rock, progressive rock</td>\n    </tr>\n    <tr>\n      <th>5</th>\n      <td>Their Greatest Hits (1971-1975)</td>\n      <td>1976</td>\n      <td>0:43:08</td>\n      <td>rock, soft rock, folk rock</td>\n    </tr>\n  </tbody>\n</table>\n</div>"
          },
          "metadata": {}
        }
      ],
      "execution_count": 113
    },
    {
      "cell_type": "code",
      "source": "df[['Genre']]",
      "metadata": {
        "trusted": true
      },
      "outputs": [
        {
          "execution_count": 89,
          "output_type": "execute_result",
          "data": {
            "text/plain": "                         Genre\n0               pop, rock, R&B\n1                    hard rock\n2             progressive rock\n3               R&B, soul, pop\n4  hard rock, progressive rock\n5   rock, soft rock, folk rock\n6                        disco\n7                    soft rock",
            "text/html": "<div>\n<style scoped>\n    .dataframe tbody tr th:only-of-type {\n        vertical-align: middle;\n    }\n\n    .dataframe tbody tr th {\n        vertical-align: top;\n    }\n\n    .dataframe thead th {\n        text-align: right;\n    }\n</style>\n<table border=\"1\" class=\"dataframe\">\n  <thead>\n    <tr style=\"text-align: right;\">\n      <th></th>\n      <th>Genre</th>\n    </tr>\n  </thead>\n  <tbody>\n    <tr>\n      <th>0</th>\n      <td>pop, rock, R&amp;B</td>\n    </tr>\n    <tr>\n      <th>1</th>\n      <td>hard rock</td>\n    </tr>\n    <tr>\n      <th>2</th>\n      <td>progressive rock</td>\n    </tr>\n    <tr>\n      <th>3</th>\n      <td>R&amp;B, soul, pop</td>\n    </tr>\n    <tr>\n      <th>4</th>\n      <td>hard rock, progressive rock</td>\n    </tr>\n    <tr>\n      <th>5</th>\n      <td>rock, soft rock, folk rock</td>\n    </tr>\n    <tr>\n      <th>6</th>\n      <td>disco</td>\n    </tr>\n    <tr>\n      <th>7</th>\n      <td>soft rock</td>\n    </tr>\n  </tbody>\n</table>\n</div>"
          },
          "metadata": {}
        }
      ],
      "execution_count": 89
    },
    {
      "cell_type": "code",
      "source": "df.loc[3:6,['Artist','Genre','Rating']].sort_values(by=['Rating'], ascending=False)",
      "metadata": {
        "trusted": true
      },
      "outputs": [
        {
          "execution_count": 122,
          "output_type": "execute_result",
          "data": {
            "text/plain": "            Artist                        Genre  Rating\n3  Whitney Houston               R&B, soul, pop     8.5\n4        Meat Loaf  hard rock, progressive rock     8.0\n5           Eagles   rock, soft rock, folk rock     7.5\n6         Bee Gees                        disco     7.0",
            "text/html": "<div>\n<style scoped>\n    .dataframe tbody tr th:only-of-type {\n        vertical-align: middle;\n    }\n\n    .dataframe tbody tr th {\n        vertical-align: top;\n    }\n\n    .dataframe thead th {\n        text-align: right;\n    }\n</style>\n<table border=\"1\" class=\"dataframe\">\n  <thead>\n    <tr style=\"text-align: right;\">\n      <th></th>\n      <th>Artist</th>\n      <th>Genre</th>\n      <th>Rating</th>\n    </tr>\n  </thead>\n  <tbody>\n    <tr>\n      <th>3</th>\n      <td>Whitney Houston</td>\n      <td>R&amp;B, soul, pop</td>\n      <td>8.5</td>\n    </tr>\n    <tr>\n      <th>4</th>\n      <td>Meat Loaf</td>\n      <td>hard rock, progressive rock</td>\n      <td>8.0</td>\n    </tr>\n    <tr>\n      <th>5</th>\n      <td>Eagles</td>\n      <td>rock, soft rock, folk rock</td>\n      <td>7.5</td>\n    </tr>\n    <tr>\n      <th>6</th>\n      <td>Bee Gees</td>\n      <td>disco</td>\n      <td>7.0</td>\n    </tr>\n  </tbody>\n</table>\n</div>"
          },
          "metadata": {}
        }
      ],
      "execution_count": 122
    },
    {
      "cell_type": "code",
      "source": "unique_released = df['Released'].unique()\nlist(unique_released)",
      "metadata": {
        "trusted": true
      },
      "outputs": [
        {
          "execution_count": 130,
          "output_type": "execute_result",
          "data": {
            "text/plain": "[1982, 1980, 1973, 1992, 1977, 1976]"
          },
          "metadata": {}
        }
      ],
      "execution_count": 130
    },
    {
      "cell_type": "code",
      "source": "df.sort_values(by=['Artist'], ascending=True)",
      "metadata": {
        "trusted": true
      },
      "outputs": [
        {
          "execution_count": 7,
          "output_type": "execute_result",
          "data": {
            "text/plain": "            Artist                            Album  Released   Length  \\\n1            AC/DC                    Back in Black      1980  0:42:11   \n6         Bee Gees             Saturday Night Fever      1977  1:15:54   \n5           Eagles  Their Greatest Hits (1971-1975)      1976  0:43:08   \n7    Fleetwood Mac                          Rumours      1977  0:40:01   \n4        Meat Loaf                  Bat Out of Hell      1977  0:46:33   \n0  Michael Jackson                         Thriller      1982  0:42:19   \n2       Pink Floyd        The Dark Side of the Moon      1973  0:42:49   \n3  Whitney Houston                    The Bodyguard      1992  0:57:44   \n\n                         Genre  Music Recording Sales (millions)  \\\n1                    hard rock                              26.1   \n6                        disco                              20.6   \n5   rock, soft rock, folk rock                              32.2   \n7                    soft rock                              27.9   \n4  hard rock, progressive rock                              20.6   \n0               pop, rock, R&B                              46.0   \n2             progressive rock                              24.2   \n3               R&B, soul, pop                              27.4   \n\n   Claimed Sales (millions) Released.1 Soundtrack  Rating  \n1                        50  25-Jul-80        NaN     9.5  \n6                        40  15-Nov-77          Y     7.0  \n5                        42  17-Feb-76        NaN     7.5  \n7                        40  04-Feb-77        NaN     6.5  \n4                        43  21-Oct-77        NaN     8.0  \n0                        65  30-Nov-82        NaN    10.0  \n2                        45  01-Mar-73        NaN     9.0  \n3                        44  17-Nov-92          Y     8.5  ",
            "text/html": "<div>\n<style scoped>\n    .dataframe tbody tr th:only-of-type {\n        vertical-align: middle;\n    }\n\n    .dataframe tbody tr th {\n        vertical-align: top;\n    }\n\n    .dataframe thead th {\n        text-align: right;\n    }\n</style>\n<table border=\"1\" class=\"dataframe\">\n  <thead>\n    <tr style=\"text-align: right;\">\n      <th></th>\n      <th>Artist</th>\n      <th>Album</th>\n      <th>Released</th>\n      <th>Length</th>\n      <th>Genre</th>\n      <th>Music Recording Sales (millions)</th>\n      <th>Claimed Sales (millions)</th>\n      <th>Released.1</th>\n      <th>Soundtrack</th>\n      <th>Rating</th>\n    </tr>\n  </thead>\n  <tbody>\n    <tr>\n      <th>1</th>\n      <td>AC/DC</td>\n      <td>Back in Black</td>\n      <td>1980</td>\n      <td>0:42:11</td>\n      <td>hard rock</td>\n      <td>26.1</td>\n      <td>50</td>\n      <td>25-Jul-80</td>\n      <td>NaN</td>\n      <td>9.5</td>\n    </tr>\n    <tr>\n      <th>6</th>\n      <td>Bee Gees</td>\n      <td>Saturday Night Fever</td>\n      <td>1977</td>\n      <td>1:15:54</td>\n      <td>disco</td>\n      <td>20.6</td>\n      <td>40</td>\n      <td>15-Nov-77</td>\n      <td>Y</td>\n      <td>7.0</td>\n    </tr>\n    <tr>\n      <th>5</th>\n      <td>Eagles</td>\n      <td>Their Greatest Hits (1971-1975)</td>\n      <td>1976</td>\n      <td>0:43:08</td>\n      <td>rock, soft rock, folk rock</td>\n      <td>32.2</td>\n      <td>42</td>\n      <td>17-Feb-76</td>\n      <td>NaN</td>\n      <td>7.5</td>\n    </tr>\n    <tr>\n      <th>7</th>\n      <td>Fleetwood Mac</td>\n      <td>Rumours</td>\n      <td>1977</td>\n      <td>0:40:01</td>\n      <td>soft rock</td>\n      <td>27.9</td>\n      <td>40</td>\n      <td>04-Feb-77</td>\n      <td>NaN</td>\n      <td>6.5</td>\n    </tr>\n    <tr>\n      <th>4</th>\n      <td>Meat Loaf</td>\n      <td>Bat Out of Hell</td>\n      <td>1977</td>\n      <td>0:46:33</td>\n      <td>hard rock, progressive rock</td>\n      <td>20.6</td>\n      <td>43</td>\n      <td>21-Oct-77</td>\n      <td>NaN</td>\n      <td>8.0</td>\n    </tr>\n    <tr>\n      <th>0</th>\n      <td>Michael Jackson</td>\n      <td>Thriller</td>\n      <td>1982</td>\n      <td>0:42:19</td>\n      <td>pop, rock, R&amp;B</td>\n      <td>46.0</td>\n      <td>65</td>\n      <td>30-Nov-82</td>\n      <td>NaN</td>\n      <td>10.0</td>\n    </tr>\n    <tr>\n      <th>2</th>\n      <td>Pink Floyd</td>\n      <td>The Dark Side of the Moon</td>\n      <td>1973</td>\n      <td>0:42:49</td>\n      <td>progressive rock</td>\n      <td>24.2</td>\n      <td>45</td>\n      <td>01-Mar-73</td>\n      <td>NaN</td>\n      <td>9.0</td>\n    </tr>\n    <tr>\n      <th>3</th>\n      <td>Whitney Houston</td>\n      <td>The Bodyguard</td>\n      <td>1992</td>\n      <td>0:57:44</td>\n      <td>R&amp;B, soul, pop</td>\n      <td>27.4</td>\n      <td>44</td>\n      <td>17-Nov-92</td>\n      <td>Y</td>\n      <td>8.5</td>\n    </tr>\n  </tbody>\n</table>\n</div>"
          },
          "metadata": {}
        }
      ],
      "execution_count": 7
    },
    {
      "cell_type": "code",
      "source": "df.to_csv('training_data.csv', index=False)",
      "metadata": {
        "trusted": true
      },
      "outputs": [],
      "execution_count": 8
    },
    {
      "cell_type": "code",
      "source": "df.sort_values(by=['Artist'], ascending=True).to_csv('training_data.csv', index=False)",
      "metadata": {
        "trusted": true
      },
      "outputs": [],
      "execution_count": 9
    },
    {
      "cell_type": "code",
      "source": "",
      "metadata": {
        "trusted": true
      },
      "outputs": [],
      "execution_count": null
    }
  ]
}